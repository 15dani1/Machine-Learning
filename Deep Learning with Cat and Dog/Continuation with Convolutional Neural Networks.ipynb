{
 "cells": [
  {
   "cell_type": "code",
   "execution_count": 1,
   "metadata": {},
   "outputs": [
    {
     "name": "stdout",
     "output_type": "stream",
     "text": [
      "WARNING:tensorflow:From C:\\Users\\rahul\\Anaconda3\\envs\\tf\\lib\\site-packages\\tensorflow\\python\\ops\\resource_variable_ops.py:435: colocate_with (from tensorflow.python.framework.ops) is deprecated and will be removed in a future version.\n",
      "Instructions for updating:\n",
      "Colocations handled automatically by placer.\n",
      "Train on 22451 samples, validate on 2495 samples\n",
      "WARNING:tensorflow:From C:\\Users\\rahul\\Anaconda3\\envs\\tf\\lib\\site-packages\\tensorflow\\python\\ops\\math_ops.py:3066: to_int32 (from tensorflow.python.ops.math_ops) is deprecated and will be removed in a future version.\n",
      "Instructions for updating:\n",
      "Use tf.cast instead.\n",
      "Epoch 1/10\n",
      "22451/22451 [==============================] - 54s 2ms/sample - loss: 0.6211 - acc: 0.6539 - val_loss: 0.5471 - val_acc: 0.7303\n",
      "Epoch 2/10\n",
      "22451/22451 [==============================] - 51s 2ms/sample - loss: 0.5249 - acc: 0.7426 - val_loss: 0.4794 - val_acc: 0.7707\n",
      "Epoch 3/10\n",
      "22451/22451 [==============================] - 50s 2ms/sample - loss: 0.4828 - acc: 0.7715 - val_loss: 0.4730 - val_acc: 0.7723\n",
      "Epoch 4/10\n",
      "22451/22451 [==============================] - 51s 2ms/sample - loss: 0.4553 - acc: 0.7872 - val_loss: 0.4630 - val_acc: 0.7848\n",
      "Epoch 5/10\n",
      "22451/22451 [==============================] - 49s 2ms/sample - loss: 0.4274 - acc: 0.8048 - val_loss: 0.4653 - val_acc: 0.7792\n",
      "Epoch 6/10\n",
      "22451/22451 [==============================] - 50s 2ms/sample - loss: 0.4028 - acc: 0.8179 - val_loss: 0.4704 - val_acc: 0.7731\n",
      "Epoch 7/10\n",
      "22451/22451 [==============================] - 52s 2ms/sample - loss: 0.3851 - acc: 0.8243 - val_loss: 0.4403 - val_acc: 0.8012\n",
      "Epoch 8/10\n",
      "22451/22451 [==============================] - 54s 2ms/sample - loss: 0.3634 - acc: 0.8374 - val_loss: 0.4727 - val_acc: 0.7844\n",
      "Epoch 9/10\n",
      "22451/22451 [==============================] - 52s 2ms/sample - loss: 0.3499 - acc: 0.8432 - val_loss: 0.4665 - val_acc: 0.7952\n",
      "Epoch 10/10\n",
      "22451/22451 [==============================] - 50s 2ms/sample - loss: 0.3316 - acc: 0.8561 - val_loss: 0.4824 - val_acc: 0.7904\n"
     ]
    },
    {
     "data": {
      "text/plain": [
       "<tensorflow.python.keras.callbacks.History at 0x209d9c66e10>"
      ]
     },
     "execution_count": 1,
     "metadata": {},
     "output_type": "execute_result"
    }
   ],
   "source": [
    "import tensorflow as tf\n",
    "from tensorflow.keras.models import Sequential\n",
    "from tensorflow.keras.layers import Dense, Dropout, Activation, Flatten, Conv2D, MaxPooling2D\n",
    "import pickle\n",
    "\n",
    "x = pickle.load(open(\"x.pickle\", \"rb\"))\n",
    "y = pickle.load(open(\"y.pickle\", \"rb\"))\n",
    "\n",
    "x = x/255.0\n",
    "\n",
    "model = Sequential()\n",
    "model.add(Conv2D(64, (3,3), input_shape= x.shape[1:]))\n",
    "model.add(Activation(\"relu\"))\n",
    "model.add(MaxPooling2D(pool_size=(2,2)))\n",
    "\n",
    "model.add(Conv2D(64, (3,3), input_shape= x.shape[1:]))\n",
    "model.add(Activation(\"relu\"))\n",
    "model.add(MaxPooling2D(pool_size=(2,2)))\n",
    "\n",
    "model.add(Flatten())\n",
    "model.add(Dense(64))\n",
    "\n",
    "model.add(Dense(1))\n",
    "model.add(Activation('sigmoid'))\n",
    "\n",
    "model.compile(loss=\"binary_crossentropy\",\n",
    "             optimizer=\"adam\",\n",
    "             metrics=['accuracy'])\n",
    "model.fit(x, y, batch_size=32, epochs=10, validation_split=0.1)"
   ]
  },
  {
   "cell_type": "code",
   "execution_count": null,
   "metadata": {},
   "outputs": [],
   "source": []
  }
 ],
 "metadata": {
  "kernelspec": {
   "display_name": "Python 3",
   "language": "python",
   "name": "python3"
  },
  "language_info": {
   "codemirror_mode": {
    "name": "ipython",
    "version": 3
   },
   "file_extension": ".py",
   "mimetype": "text/x-python",
   "name": "python",
   "nbconvert_exporter": "python",
   "pygments_lexer": "ipython3",
   "version": "3.7.3"
  }
 },
 "nbformat": 4,
 "nbformat_minor": 2
}
